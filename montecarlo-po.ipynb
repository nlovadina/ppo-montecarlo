{
 "cells": [
  {
   "cell_type": "code",
   "execution_count": 12,
   "metadata": {},
   "outputs": [],
   "source": [
    "%matplotlib inline\n",
    "import matplotlib.pyplot as plt\n",
    "import seaborn as sns\n",
    "import pandas as pd\n",
    "import numpy as np\n",
    "import random"
   ]
  },
  {
   "cell_type": "code",
   "execution_count": 13,
   "metadata": {},
   "outputs": [],
   "source": [
    "backlog_size = 72"
   ]
  },
  {
   "cell_type": "code",
   "execution_count": 14,
   "metadata": {},
   "outputs": [],
   "source": [
    "pb_montecarlo_loops = 100000"
   ]
  },
  {
   "cell_type": "code",
   "execution_count": 15,
   "metadata": {
    "scrolled": true
   },
   "outputs": [],
   "source": [
    "poker_planning_values = [1,2,3,5,8,13,21]\n",
    "pb_montecarlo_simulation = []\n",
    "\n",
    "for pb_montecarlo_loop in range(pb_montecarlo_loops) :\n",
    "    sum = 0\n",
    "    for item in range(backlog_size) :\n",
    "        random_index = random.randrange(len(poker_planning_values)-1)\n",
    "        sum = sum + poker_planning_values[random_index]\n",
    "    pb_montecarlo_simulation.append(sum)"
   ]
  },
  {
   "cell_type": "code",
   "execution_count": 16,
   "metadata": {
    "scrolled": true
   },
   "outputs": [
    {
     "data": {
      "image/png": "[encoded data removed]",
      "text/plain": [
       "<Figure size 432x288 with 1 Axes>"
      ]
     },
     "metadata": {
      "needs_background": "light"
     },
     "output_type": "display_data"
    }
   ],
   "source": [
    "plt.subplot(1,1,1)\n",
    "sns.distplot(pb_montecarlo_simulation)\n",
    "backlog_size = np.percentile(pb_montecarlo_simulation, 80)\n",
    "plt.title(\"Total effort Size Distribution in Story Points\")\n",
    "plt.axvline(x = backlog_size, color = 'red')\n",
    "plt.show()"
   ]
  },
  {
   "cell_type": "code",
   "execution_count": 17,
   "metadata": {
    "scrolled": false
   },
   "outputs": [
    {
     "name": "stdout",
     "output_type": "stream",
     "text": [
      "413.0\n"
     ]
    }
   ],
   "source": [
    "print(backlog_size)"
   ]
  },
  {
   "cell_type": "code",
   "execution_count": 18,
   "metadata": {},
   "outputs": [
    {
     "data": {
      "text/plain": [
       "count    100000.000000\n",
       "mean        384.123010\n",
       "std          34.803109\n",
       "min         247.000000\n",
       "25%         360.000000\n",
       "50%         384.000000\n",
       "75%         407.000000\n",
       "max         550.000000\n",
       "dtype: float64"
      ]
     },
     "execution_count": 18,
     "metadata": {},
     "output_type": "execute_result"
    }
   ],
   "source": [
    "pd.Series(pb_montecarlo_simulation).describe()"
   ]
  },
  {
   "cell_type": "code",
   "execution_count": 19,
   "metadata": {},
   "outputs": [],
   "source": [
    "velocity ={'worst':29, 'best':37}\n",
    "sprint_length = 10 \n",
    "s_montecarlo_loops = pb_montecarlo_loops"
   ]
  },
  {
   "cell_type": "markdown",
   "metadata": {},
   "source": [
    "To calculate the possible date of completion the following formula is used:<br>\n",
    "$Time = (\\frac{Story Points_{Total}}{Velocity_{Average}})*Sprint Length$"
   ]
  },
  {
   "cell_type": "code",
   "execution_count": 22,
   "metadata": {},
   "outputs": [],
   "source": [
    "completion = []\n",
    "finishes = []\n",
    "for i in range (s_montecarlo_loops):\n",
    "    sprints_to_finish = 0\n",
    "    finish = backlog_size\n",
    "    current_velocity = 0\n",
    "    while (finish>0):\n",
    "        current_velocity = random.randint(velocity['worst'], velocity['best'])\n",
    "        finish = finish - current_velocity\n",
    "        sprints_to_finish = sprints_to_finish + 1\n",
    "    #The idea is that if your finish value is negative you only used a fraction of the\n",
    "    #Sprint\n",
    "    #if (finish < 0) : \n",
    "    #    completion.append(sprints_to_finish+(current_velocity + finish)/current_velocity)\n",
    "    #else :\n",
    "    completion.append(sprints_to_finish)"
   ]
  },
  {
   "cell_type": "code",
   "execution_count": 23,
   "metadata": {
    "scrolled": false
   },
   "outputs": [
    {
     "name": "stderr",
     "output_type": "stream",
     "text": [
      "/Users/nicola/opt/anaconda3/lib/python3.7/site-packages/seaborn/distributions.py:369: UserWarning: Default bandwidth for data is 0; skipping density estimation.\n",
      "  warnings.warn(msg, UserWarning)\n"
     ]
    },
    {
     "data": {
      "image/png": "[encoded data removed]",
      "text/plain": [
       "<Figure size 432x288 with 1 Axes>"
      ]
     },
     "metadata": {
      "needs_background": "light"
     },
     "output_type": "display_data"
    }
   ],
   "source": [
    "plt.subplot(1,1,1)\n",
    "sns.distplot(completion)\n",
    "value = np.percentile(completion, 80)\n",
    "plt.title(\"Estimated Sprint for finish\")\n",
    "plt.axvline(x = value, color = 'red')\n",
    "plt.show()"
   ]
  },
  {
   "cell_type": "code",
   "execution_count": 24,
   "metadata": {
    "scrolled": true
   },
   "outputs": [
    {
     "data": {
      "text/plain": [
       "count    100000.000000\n",
       "mean         13.006400\n",
       "std           0.265028\n",
       "min          12.000000\n",
       "25%          13.000000\n",
       "50%          13.000000\n",
       "75%          13.000000\n",
       "max          14.000000\n",
       "dtype: float64"
      ]
     },
     "execution_count": 24,
     "metadata": {},
     "output_type": "execute_result"
    }
   ],
   "source": [
    "pd.Series(completion).describe()"
   ]
  },
  {
   "cell_type": "code",
   "execution_count": null,
   "metadata": {},
   "outputs": [],
   "source": []
  }
 ],
 "metadata": {
  "kernelspec": {
   "display_name": "Python 3",
   "language": "python",
   "name": "python3"
  },
  "language_info": {
   "codemirror_mode": {
    "name": "ipython",
    "version": 3
   },
   "file_extension": ".py",
   "mimetype": "text/x-python",
   "name": "python",
   "nbconvert_exporter": "python",
   "pygments_lexer": "ipython3",
   "version": "3.7.7"
  }
 },
 "nbformat": 4,
 "nbformat_minor": 4
}
